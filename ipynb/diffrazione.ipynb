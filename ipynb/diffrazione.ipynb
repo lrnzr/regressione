{
 "cells": [
  {
   "cell_type": "markdown",
   "metadata": {},
   "source": [
    "# Regressione circolare: diffrazione (mod. geometrico)\n",
    "\n",
    "*Genera una rappresentazione grafica dei punti sperimentali ottenuti leggendo un file di dati CSV e, tramite la regressione circolare con modello geometrico, fornisce la circonferenza ottimale con relativo centro e raggio.*"
   ]
  },
  {
   "cell_type": "code",
   "execution_count": null,
   "metadata": {},
   "outputs": [],
   "source": [
    "\n",
    "import numpy as np\n",
    "from scipy import optimize\n",
    "import matplotlib.pyplot as plt"
   ]
  },
  {
   "cell_type": "markdown",
   "metadata": {},
   "source": [
    "La prima definizione rappresenta la funzione obiettivo nel modello geometrico, quindi la funzione che produce le coordinate di punti sulla circonferenza ottimale e infine la funzione che restituisce i punti sulla circonferenza intersezioni di questa con i segmenti radiali che collegano il centro con il punto sperimentale."
   ]
  },
  {
   "cell_type": "code",
   "execution_count": null,
   "metadata": {},
   "outputs": [],
   "source": [
    "def funzione_obiettivo(argomenti, ascisse, ordinate):\n",
    "    # argomenti[0] = ascissa centro,  argomenti[1] = ordinata centro, argomenti[2] = raggio,\n",
    "    return np.sum((np.sqrt((ascisse-argomenti[0])**2 + (ordinate-argomenti[1])**2)-argomenti[2])**2)\n",
    "\n",
    "def punti_cfr_ottimale(xc, yc, raggio):\n",
    "    alfa = np.linspace(-np.pi, np.pi, 360)\n",
    "    xp = xc + raggio*np.cos(alfa)\n",
    "    yp = yc + raggio*np.sin(alfa)\n",
    "    return xp, yp\n",
    "\n",
    "def punti_cfr_corrispondenti(dati_x, dati_y, xc, yc, raggio):\n",
    "    angoli = np.arctan2(dati_y-yc,dati_x-xc)\n",
    "    punti = np.transpose([raggio*np.cos(angoli)+xc, raggio*np.sin(angoli)+yc])\n",
    "    return punti"
   ]
  },
  {
   "cell_type": "markdown",
   "metadata": {},
   "source": [
    "Letto il file di dati, si assegnano alle variabili `dati_x` e `dati_y` rispettivamente le ascisse e le ordinate."
   ]
  },
  {
   "cell_type": "code",
   "execution_count": null,
   "metadata": {},
   "outputs": [],
   "source": [
    "nome_file = input(\"Inserire il nome del file CSV: \")\n",
    "file_in = open(nome_file, \"r\")\n",
    "coppie_dati = np.loadtxt(file_in, delimiter = \",\", comments = '#', usecols = (0,1))\n",
    "\n",
    "n = len(coppie_dati)\n",
    "\n",
    "nparrayX_Y = np.transpose(coppie_dati)\n",
    "dati_x = nparrayX_Y[0]\n",
    "dati_y = nparrayX_Y[1]\n",
    "\n",
    "file_in.close()"
   ]
  },
  {
   "cell_type": "markdown",
   "metadata": {},
   "source": [
    "Si calcolano, in termini approssimativi, le coordinate del centro e il raggio per poi considerare queste stime come i valori iniziali `x0` da cui partire per la ricerca del minimo della funzione obiettivo."
   ]
  },
  {
   "cell_type": "code",
   "execution_count": null,
   "metadata": {},
   "outputs": [],
   "source": [
    "x_med = np.mean(dati_x)\n",
    "y_med = np.mean(dati_y)\n",
    "stima_iniziale_raggio = np.sqrt((dati_x[0]-x_med)**2 + (dati_y[0]-y_med)**2)\n",
    "\n",
    "x0 = np.array([x_med, y_med, stima_iniziale_raggio])\n",
    "\n",
    "esiti = optimize.minimize(funzione_obiettivo, x0, args = (dati_x, dati_y))"
   ]
  },
  {
   "cell_type": "markdown",
   "metadata": {},
   "source": [
    "I risultati del calcolo di minimizzazione (restituiti per i tre parametri dall'array `x`) vengono associati alle coordinate del centro e al raggio."
   ]
  },
  {
   "cell_type": "code",
   "execution_count": null,
   "metadata": {},
   "outputs": [],
   "source": [
    "\n",
    "xc, yc, r = esiti.x\n",
    "# per disporre delle rimanenti informazioni togliere il commento all'istruzione seguente\n",
    "# print(esiti)"
   ]
  },
  {
   "cell_type": "markdown",
   "metadata": {},
   "source": [
    "Calcolo di 360 punti della circonferenza ottimale seguito dal calcolo dei punti di questa circonferenza allineati radialmente con le misure. Segue il calcolo dei residui e della loro deviazione standard."
   ]
  },
  {
   "cell_type": "code",
   "execution_count": null,
   "metadata": {},
   "outputs": [],
   "source": [
    "xp, yp = punti_cfr_ottimale(xc, yc, r)\n",
    "\n",
    "punti_cfr = punti_cfr_corrispondenti(dati_x, dati_y, xc, yc, r)\n",
    "[puntiCfr_x, puntiCfr_y] = [punti_cfr[:,0], punti_cfr[:,1]]\n",
    "\n",
    "residui = np.sqrt((dati_x-xc)**2+(dati_y-yc)**2) - r\n",
    "somma_quadrati_residui = np.sum(residui**2)\n",
    "# formula con n-3 gradi di libertà\n",
    "sigma = np.sqrt(somma_quadrati_residui/(n-3))\n",
    "\n",
    "massimo_residui = np.max(abs(residui))\n",
    "x = np.linspace(0, n+1, 100)"
   ]
  },
  {
   "cell_type": "markdown",
   "metadata": {},
   "source": [
    "Parte grafica: circonferenza di best-fit e dispersione delle misure."
   ]
  },
  {
   "cell_type": "code",
   "execution_count": null,
   "metadata": {},
   "outputs": [],
   "source": [
    "figura = plt.figure(facecolor = 'white')\n",
    "# dimensioni immagine\n",
    "# plt.rcParams['figure.figsize'] = [12,7.5]\n",
    "plt.axis('equal')\n",
    "plt.plot([dati_x, puntiCfr_x], [dati_y, puntiCfr_y], c = 'orange')\n",
    "plt.plot([np.ones(n)*xc, puntiCfr_x], [np.ones(n)*yc, puntiCfr_y], linestyle = '--', linewidth = .5, c = 'gray')\n",
    "plt.plot(xp, yp, linewidth = 2, c ='r', label = 'centro = ({0:5.3f}, {1:5.3f}),\\nraggio = {2:3.3f}'.format(xc, yc, r))\n",
    "plt.scatter(dati_x, dati_y, c = 'b',  label = 'punti sperimentali', marker = 'o', zorder = 2)\n",
    "plt.scatter(xc, yc, c = 'blue', marker = 'x')\n",
    "plt.legend(loc = 'best', labelspacing = 0.5)\n",
    "plt.title('Regr. circolare modello geometrico: punti sperimentali e\\nbest-fit: $(x-\\hat a)^2+(y-\\hat b)^2=\\hat r^2$')\n",
    "plt.show()"
   ]
  },
  {
   "cell_type": "markdown",
   "metadata": {},
   "source": [
    "Visualizzazione dei residui con un indice intero in ascissa."
   ]
  },
  {
   "cell_type": "code",
   "execution_count": null,
   "metadata": {},
   "outputs": [],
   "source": [
    "ax = plt.axes()\n",
    "ax.xaxis.set_major_locator(plt.MultipleLocator(1))\n",
    "plt.grid(which = 'both', color = '.85', linestyle = '-', linewidth=1)\n",
    "plt.xlim([0, n+1])\n",
    "plt.ylim([-13/10*massimo_residui, 13/10*massimo_residui])\n",
    "plt.fill_between(x, -sigma, sigma, alpha =.1, linewidth = 0, color = 'r')\n",
    "plt.vlines(np.arange(1, n+1), 0, residui, linewidth = 1, color = 'orange')\n",
    "plt.plot([0, n+1], [0, 0], color = 'red', linewidth = 2)\n",
    "plt.scatter(np.arange(1, n+1), residui, s = 20, c = 'b', zorder = 3, label = 'residui: $e_i=\\sqrt{(x_i-\\hat a)^2+(y_i-\\hat b)^2}-\\hat r$')\n",
    "plt.title(\"Distribuzione dei residui (modello geometrico)\\n devSt $\\sigma = $\" + str(round(sigma,3)))\n",
    "plt.xlabel('indice')\n",
    "plt.ylabel('residui')\n",
    "plt.legend()\n",
    "plt.show()"
   ]
  }
 ],
 "metadata": {
  "kernelspec": {
   "display_name": "Python 3.10.7 64-bit",
   "language": "python",
   "name": "python3"
  },
  "language_info": {
   "codemirror_mode": {
    "name": "ipython",
    "version": 3
   },
   "file_extension": ".py",
   "mimetype": "text/x-python",
   "name": "python",
   "nbconvert_exporter": "python",
   "pygments_lexer": "ipython3",
   "version": "3.10.7"
  },
  "orig_nbformat": 4,
  "vscode": {
   "interpreter": {
    "hash": "26de051ba29f2982a8de78e945f0abaf191376122a1563185a90213a26c5da77"
   }
  }
 },
 "nbformat": 4,
 "nbformat_minor": 2
}
