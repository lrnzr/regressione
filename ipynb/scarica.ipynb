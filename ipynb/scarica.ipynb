{
 "cells": [
  {
   "cell_type": "markdown",
   "metadata": {},
   "source": [
    "# Scarica di un condensatore su resistore\n",
    "\n",
    "*Sulla base della lettura di un file CSV, viene eseguita una linearizzazione dei valori in ordinata (tensione) e quindi si calcolano i coefficienti della retta di regressione, le incertezze dei parametri e il coefficiente di correlazione utilizzando la funzione `linregress` del pacchetto SciPy.\n",
    "I risultati appaiono in tre grafici a dispersione: il primo rappresenta il logaritmo della tensione in funzione del tempo, il secondo i residui della linearizzazione e il terzo riporta la funzione di scarica che ne deriva con i dati grezzi.*"
   ]
  },
  {
   "cell_type": "code",
   "execution_count": null,
   "metadata": {},
   "outputs": [],
   "source": [
    "import numpy as np\n",
    "import matplotlib.pyplot as plt\n",
    "from scipy.stats import linregress"
   ]
  },
  {
   "cell_type": "code",
   "execution_count": null,
   "metadata": {},
   "outputs": [],
   "source": [
    "nome_file = input(\"Inserire il nome del file CSV: \")\n",
    "# scarica.csv\n",
    "file_in = open(nome_file, \"r\")\n",
    "coppie_dati = np.loadtxt(file_in, delimiter = \",\", comments = '#', usecols = (0,1))"
   ]
  },
  {
   "cell_type": "markdown",
   "metadata": {},
   "source": [
    "Calcolo del logaritmo della relazione tra tensione e tempo secondo quanto esposto nella pagina di teoria <a href=\"http://www.lorenzoroi.net/regressione/regressione01.html#mjx-eqn:eq:42\">(42)</a> e <a href=\"http://www.lorenzoroi.net/regressione/regressione01.html#mjx-eqn:eq:42\">(43)</a> al fine di giungere all'espressione lineare $z=b+a x$. La funzione `linregress()` della libreria SciPy fornisce quindi gli elementi `slope` e `intercept`."
   ]
  },
  {
   "cell_type": "code",
   "execution_count": null,
   "metadata": {},
   "outputs": [],
   "source": [
    "n = len(coppie_dati)\n",
    "\n",
    "nparrayX_Y = coppie_dati.transpose()\n",
    "dati_x = nparrayX_Y[0]\n",
    "dati_y = nparrayX_Y[1]\n",
    "file_in.close()\n",
    "\n",
    "ln_dati_y = np.log(dati_y)\n",
    "\n",
    "esiti = linregress(dati_x,ln_dati_y)\n",
    "\n",
    "a = esiti.slope\n",
    "b = esiti.intercept\n",
    "tau = -1/a"
   ]
  },
  {
   "cell_type": "markdown",
   "metadata": {},
   "source": [
    "Deviazioni standard dei parametri e dei residui e calcolo del coefficiente di correlazione."
   ]
  },
  {
   "cell_type": "code",
   "execution_count": null,
   "metadata": {},
   "outputs": [],
   "source": [
    "previsioni_lny = a*dati_x + b\n",
    "residui = ln_dati_y - previsioni_lny\n",
    "\n",
    "sigma = np.std(residui, ddof = 2)\n",
    "sigma_a = esiti.stderr\n",
    "sigma_b = esiti.intercept_stderr\n",
    "coeff_correlazione = esiti.rvalue"
   ]
  },
  {
   "cell_type": "code",
   "execution_count": null,
   "metadata": {},
   "outputs": [],
   "source": [
    "min_x = min(dati_x)\n",
    "max_x = max(dati_x)\n",
    "min_y = min(ln_dati_y)\n",
    "max_y = max(ln_dati_y)\n",
    "delta_x = (max_x-min_x)/15\n",
    "delta_y = (max_y-min_y)/15"
   ]
  },
  {
   "cell_type": "markdown",
   "metadata": {},
   "source": [
    "Elementi per tracciare la retta di regressione e la corrispondente funzione esponenziale."
   ]
  },
  {
   "cell_type": "code",
   "execution_count": null,
   "metadata": {},
   "outputs": [],
   "source": [
    "x = np.linspace(min_x-delta_x, max_x+delta_x, 100)\n",
    "y = a*x + b\n",
    "xx = np.linspace(0, 50, 100)\n",
    "yy = a*xx + b"
   ]
  },
  {
   "cell_type": "code",
   "execution_count": null,
   "metadata": {},
   "outputs": [],
   "source": [
    "massimo_residui = max(abs(residui))\n",
    "\n",
    "if a>=0:\n",
    "    posizione_txt = max_x - 4*delta_x\n",
    "elif a<0:\n",
    "    posizione_txt = min_x + delta_x "
   ]
  },
  {
   "cell_type": "markdown",
   "metadata": {},
   "source": [
    "Primo grafico: dispersione del logaritmo(tensione) e retta di regressione."
   ]
  },
  {
   "cell_type": "code",
   "execution_count": null,
   "metadata": {},
   "outputs": [],
   "source": [
    "plt.grid(which = 'both', color = '.85', linestyle = '-', linewidth=1)\n",
    "plt.plot(x, y, color = 'red', linewidth = 2, label = 'retta di regressione')\n",
    "plt.scatter(dati_x, ln_dati_y, s = 1, c = 'cornflowerblue', zorder = 3, label = 'logaritmo della tensione rilevata')\n",
    "plt.title(\"Linearizzazione della relazione esponenziale\")\n",
    "plt.xlabel('tempo (s)')\n",
    "plt.ylabel('ln_tensione (ln(V))')\n",
    "plt.text(posizione_txt-delta_x, min_y+delta_y/2, 'ln(y) = ({0:5.3f})t + ({1:4.1f})\\na = {0:5.3f} $\\pm$ {2:6.3f}\\nb = {1:4.1f} $\\pm$ {3:4.2f}\\n r = {4:6.4f}\\n$\\\\tau$ = {5:4.3}'.format(a, b, sigma_a, sigma_b, coeff_correlazione, tau), c = 'r')\n",
    "plt.legend()\n",
    "plt.show()"
   ]
  },
  {
   "cell_type": "markdown",
   "metadata": {},
   "source": [
    "Distribuzione dei residui e relativa deviazione standard."
   ]
  },
  {
   "cell_type": "code",
   "execution_count": null,
   "metadata": {},
   "outputs": [],
   "source": [
    "plt.grid(which = 'both', color = '.85', linestyle = '-', linewidth=1)\n",
    "plt.xlim([min_x-delta_x, max_x+delta_x])\n",
    "plt.ylim([-13/10*massimo_residui, 13/10*massimo_residui])\n",
    "plt.vlines(dati_x, np.zeros(n), residui, linewidth = .5, color = 'orange')\n",
    "plt.fill_between(x, -sigma, sigma, alpha =.1, linewidth = 0, color = 'r')\n",
    "plt.plot(x,np.zeros(100), color = 'red', linewidth = 2)\n",
    "plt.scatter(dati_x, residui, s = 5, c = 'cornflowerblue', zorder = 3, label = 'residui: $e_i=ln(y_i)-\\hat ax_i-\\hat b$')\n",
    "plt.title(\"Distribuzione dei residui\\n devSt $\\sigma=$\" + str(round(sigma,2)))\n",
    "plt.xlabel('tempo (s)')\n",
    "plt.ylabel('residui (ln(V))')\n",
    "plt.legend()\n",
    "plt.show()"
   ]
  },
  {
   "cell_type": "markdown",
   "metadata": {},
   "source": [
    "Funzione esponenziale di scarica con i parametri dedotti dalla linearizzazione, dati grezzi e valore della costante di circuito $\\tau$."
   ]
  },
  {
   "cell_type": "code",
   "execution_count": null,
   "metadata": {},
   "outputs": [],
   "source": [
    "plt.grid(which = 'both', color = '.85', linestyle = '-', linewidth=1)\n",
    "plt.plot(xx, np.exp(yy), color = 'red', linewidth = 2, label = 'funzione di regressione')\n",
    "plt.scatter(dati_x, dati_y, s = 2, c = 'cornflowerblue', zorder = 3, label = 'tensione rilevata')\n",
    "plt.title(\"Scarica esponenziale del condensatore\")\n",
    "plt.xlabel('tempo (s)')\n",
    "plt.ylabel('tensione (V)')\n",
    "plt.text(30, 1.5, 'y = exp({0:5.3f} t + {1:4.1f})\\na = {0:5.3f} $\\pm$ {2:6.3f}\\nb = {1:4.1f} $\\pm$ {3:4.2f}\\n$\\\\tau$ = {4:4.3}'.format(a, b, sigma_a, sigma_b, tau), c = 'r')\n",
    "plt.legend()\n",
    "plt.show()"
   ]
  }
 ],
 "metadata": {
  "kernelspec": {
   "display_name": "Python 3.10.7 64-bit",
   "language": "python",
   "name": "python3"
  },
  "language_info": {
   "codemirror_mode": {
    "name": "ipython",
    "version": 3
   },
   "file_extension": ".py",
   "mimetype": "text/x-python",
   "name": "python",
   "nbconvert_exporter": "python",
   "pygments_lexer": "ipython3",
   "version": "3.10.7"
  },
  "orig_nbformat": 4,
  "vscode": {
   "interpreter": {
    "hash": "26de051ba29f2982a8de78e945f0abaf191376122a1563185a90213a26c5da77"
   }
  }
 },
 "nbformat": 4,
 "nbformat_minor": 2
}
