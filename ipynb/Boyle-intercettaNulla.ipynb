{
 "cells": [
  {
   "cell_type": "markdown",
   "metadata": {},
   "source": [
    "# Legge di Boyle (linearizzata con intercetta nulla)\n",
    "\n",
    "*Sulla base della lettura di un file CSV, calcola il coefficiente della retta di regressione nel modello con intercetta nulla e la relativa incertezza.\n",
    "Visualizza i risultati in tre grafici: il primo comprendente i dati e la retta di regressione, il secondo l'iperbole che ne deriva e nel terzo sono riportati i residui con la relativa deviazione standard.*"
   ]
  },
  {
   "cell_type": "code",
   "execution_count": null,
   "metadata": {},
   "outputs": [],
   "source": [
    "import numpy as np\n",
    "import matplotlib.pyplot as plt"
   ]
  },
  {
   "cell_type": "code",
   "execution_count": null,
   "metadata": {},
   "outputs": [],
   "source": [
    "nome_file = input(\"Inserire il nome del file CSV: \")\n",
    "file_in = open(nome_file, \"r\")\n",
    "coppie_dati = np.loadtxt(file_in, delimiter = \",\", comments = '#', usecols = (0,1))"
   ]
  },
  {
   "cell_type": "markdown",
   "metadata": {},
   "source": [
    "Viene calcolato il parametro $a$ che definisce la proporzionalità tra pressione e volume."
   ]
  },
  {
   "cell_type": "code",
   "execution_count": null,
   "metadata": {},
   "outputs": [],
   "source": [
    "n = len(coppie_dati)\n",
    "\n",
    "nparrayX_Y = coppie_dati.transpose()\n",
    "dati_y = nparrayX_Y[0]\n",
    "dati_pressione = nparrayX_Y[1]\n",
    "dati_x = 1/dati_pressione\n",
    "\n",
    "file_in.close()\n",
    "\n",
    "# formula (17c) nel file regressione01.html\n",
    "a = sum(dati_x*dati_y)/sum(dati_x**2)"
   ]
  },
  {
   "cell_type": "markdown",
   "metadata": {},
   "source": [
    "Qui si calcolano i residui e le deviazioni standard, rispettivamente dei residui e di $a$."
   ]
  },
  {
   "cell_type": "code",
   "execution_count": null,
   "metadata": {},
   "outputs": [],
   "source": [
    "previsioni_y = a*dati_x\n",
    "residui = dati_y - previsioni_y\n",
    "\n",
    "sigma = np.std(residui, ddof=1)\n",
    "sigma_a = sigma*np.sqrt(1/sum(dati_x**2))"
   ]
  },
  {
   "cell_type": "code",
   "execution_count": null,
   "metadata": {},
   "outputs": [],
   "source": [
    "min_x = min(dati_x)\n",
    "max_x = max(dati_x)\n",
    "delta_x = (max_x-min_x)/15\n",
    "\n",
    "min_pres = min(dati_pressione)\n",
    "max_pres = max(dati_pressione)\n",
    "delta_pres = (max_pres-min_pres)/15"
   ]
  },
  {
   "cell_type": "markdown",
   "metadata": {},
   "source": [
    "Si costruiscono le rette che individuano la fascia di incertezza. "
   ]
  },
  {
   "cell_type": "code",
   "execution_count": null,
   "metadata": {},
   "outputs": [],
   "source": [
    "x = np.linspace(min_x-delta_x, max_x+delta_x, 100)\n",
    "y = a*x\n",
    "y_sup = (a+sigma_a)*x \n",
    "y_inf = (a-sigma_a)*x"
   ]
  },
  {
   "cell_type": "markdown",
   "metadata": {},
   "source": [
    "Qui vengono definite le corrispondenti iperboli"
   ]
  },
  {
   "cell_type": "code",
   "execution_count": null,
   "metadata": {},
   "outputs": [],
   "source": [
    "x_pres = np.linspace(min_pres-delta_pres, max_pres+delta_pres, 100)\n",
    "y_pres = a/x_pres\n",
    "y_pressup = (a+sigma_a)/x_pres \n",
    "y_presinf = (a-sigma_a)/x_pres "
   ]
  },
  {
   "cell_type": "markdown",
   "metadata": {},
   "source": [
    "Primo grafico: dispersione dei dati, retta di regressione e fascia di incertezza."
   ]
  },
  {
   "cell_type": "code",
   "execution_count": null,
   "metadata": {},
   "outputs": [],
   "source": [
    "plt.grid(which = 'both', color = '.85', linestyle = '-', linewidth=1)\n",
    "plt.vlines(dati_x, dati_y-sigma, dati_y+sigma, linewidth = .5, color = 'b')\n",
    "plt.fill_between(x, y_inf, y_sup, alpha = .1, linewidth = 0, color='r')\n",
    "plt.plot(x, y, color = 'red', linewidth = 2, label = 'retta di regressione')\n",
    "plt.scatter(dati_x, dati_y, s = 20, c = 'cornflowerblue', zorder = 3, label = 'dati rilevati')\n",
    "plt.title(\"Legge di Boyle (linearizzata): modello $y=ax$\")\n",
    "plt.xlabel('z=1/pressione (kPa$^{-1}$) ')\n",
    "plt.ylabel('volume (cm$^3$)')\n",
    "plt.text(0.007, 10, 'y = ({0:6.2f})z\\na = {0:6.2f} $\\pm$ {1:6.2f}'.format(a, sigma_a), c = 'r')\n",
    "plt.legend()\n",
    "plt.show()"
   ]
  },
  {
   "cell_type": "markdown",
   "metadata": {},
   "source": [
    "Nei grafici successivi si utilizzano gli stessi valori per tracciare l'iperbole $V=\\hat a/P$ e quelle che delimitano la fascia di incertezza."
   ]
  },
  {
   "cell_type": "code",
   "execution_count": null,
   "metadata": {},
   "outputs": [],
   "source": [
    "plt.grid(which = 'both', color = '.85', linestyle = '-', linewidth=1)\n",
    "plt.vlines(dati_pressione, dati_y-sigma, dati_y+sigma, linewidth = .5, color = 'b')\n",
    "plt.fill_between(x_pres, y_presinf, y_pressup, alpha = .1, linewidth = 0, color='r')\n",
    "plt.plot(x_pres, y_pres, color = 'red', linewidth = 2, label = 'iperbole di regressione')\n",
    "plt.scatter(dati_pressione, dati_y, s = 20, c = 'cornflowerblue', zorder = 3, label = 'dati rilevati')\n",
    "plt.title(\"Iperbole di regressione e fascia di incertezza\")\n",
    "plt.xlabel('pressione (kPa)')\n",
    "plt.ylabel('volume (cm$^3$)')\n",
    "plt.text(240, 13, 'y = ({0:6.2f})/x\\na = {0:6.2f} $\\pm$ {1:6.2f}'.format(a, sigma_a), c = 'r')\n",
    "plt.legend()\n",
    "plt.show()"
   ]
  },
  {
   "cell_type": "code",
   "execution_count": null,
   "metadata": {},
   "outputs": [],
   "source": [
    "plt.grid(which = 'both', color = '.85', linestyle = '-', linewidth=1)\n",
    "plt.xlim([min_pres-delta_pres, max_pres+delta_pres])\n",
    "# la medesima scala del modello lineare completo\n",
    "plt.ylim([-.6, .6])\n",
    "plt.vlines(dati_pressione, np.zeros(n), residui, linewidth = .5, color = 'orange')\n",
    "plt.fill_between(x_pres, -sigma, sigma, alpha =.1, linewidth = 0, color = 'r')\n",
    "plt.plot(x_pres, np.zeros(100), color = 'red', linewidth = 2)\n",
    "plt.scatter(dati_pressione, residui, s = 20, c = 'cornflowerblue', zorder = 3, label = 'residui: $e_i=y_i-ax_i$')\n",
    "plt.title(\"Distribuzione dei residui: modello $y=ax$\\n devSt $\\sigma=$\" + str(round(sigma,2)))\n",
    "plt.xlabel(\"pressione (kPa)\")\n",
    "plt.ylabel(\"residui (cm$^3$)\")\n",
    "plt.legend()\n",
    "plt.show()"
   ]
  }
 ],
 "metadata": {
  "kernelspec": {
   "display_name": "Python 3.10.7 64-bit",
   "language": "python",
   "name": "python3"
  },
  "language_info": {
   "codemirror_mode": {
    "name": "ipython",
    "version": 3
   },
   "file_extension": ".py",
   "mimetype": "text/x-python",
   "name": "python",
   "nbconvert_exporter": "python",
   "pygments_lexer": "ipython3",
   "version": "3.10.7"
  },
  "orig_nbformat": 4,
  "vscode": {
   "interpreter": {
    "hash": "26de051ba29f2982a8de78e945f0abaf191376122a1563185a90213a26c5da77"
   }
  }
 },
 "nbformat": 4,
 "nbformat_minor": 2
}
