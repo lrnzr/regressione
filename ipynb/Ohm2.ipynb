{
 "cells": [
  {
   "cell_type": "markdown",
   "metadata": {},
   "source": [
    "# Seconda legge di Ohm\n",
    "\n",
    "*Sulla base della lettura di un file CSV, calcola i coefficienti della retta di regressione, le incertezze dei parametri e il coefficiente di correlazione utilizzando la funzione `linregress` del pacchetto SciPy.\n",
    "Si visualizzano i risultati in due grafici a dispersione: il primo comprendente i dati, il secondo i residui.*"
   ]
  },
  {
   "cell_type": "code",
   "execution_count": null,
   "metadata": {},
   "outputs": [],
   "source": [
    "import numpy as np\n",
    "import matplotlib.pyplot as plt\n",
    "from scipy.stats import linregress"
   ]
  },
  {
   "cell_type": "code",
   "execution_count": null,
   "metadata": {},
   "outputs": [],
   "source": [
    "nome_file = input(\"Inserire il nome del file CSV: \")\n",
    "file_in = open(nome_file, \"r\")\n",
    "coppie_dati = np.loadtxt(file_in, delimiter = \",\", comments = '#', usecols = (0,1))"
   ]
  },
  {
   "cell_type": "markdown",
   "metadata": {},
   "source": [
    "Viene utilizzata la funzione `linregress()` della libreria SciPy. Riportati i risultati nella tuple `esiti` dalla quale vengono estratti gli elementi `slope` e `intercept`."
   ]
  },
  {
   "cell_type": "code",
   "execution_count": null,
   "metadata": {},
   "outputs": [],
   "source": [
    "n = len(coppie_dati)\n",
    "\n",
    "nparrayX_Y = coppie_dati.transpose()\n",
    "dati_x = nparrayX_Y[0]\n",
    "dati_y = nparrayX_Y[1]\n",
    "file_in.close()\n",
    "\n",
    "esiti = linregress(dati_x,dati_y)\n",
    "\n",
    "a = esiti.slope\n",
    "b = esiti.intercept"
   ]
  },
  {
   "cell_type": "markdown",
   "metadata": {},
   "source": [
    "Qui si estraggono le stime delle deviazioni standard e il coefficiente di correlazione."
   ]
  },
  {
   "cell_type": "code",
   "execution_count": null,
   "metadata": {},
   "outputs": [],
   "source": [
    "previsioni_y = a*dati_x + b\n",
    "residui = dati_y - previsioni_y\n",
    "\n",
    "sigma = np.std(residui, ddof=2)\n",
    "sigma_a = esiti.stderr \n",
    "sigma_b = esiti.intercept_stderr\n",
    "coeff_correlazione = esiti.rvalue"
   ]
  },
  {
   "cell_type": "code",
   "execution_count": null,
   "metadata": {},
   "outputs": [],
   "source": [
    "min_x = min(dati_x)\n",
    "max_x = max(dati_x)\n",
    "min_y = min(dati_y)\n",
    "max_y = max(dati_y)\n",
    "delta_x = (max_x-min_x)/15\n",
    "delta_y = (max_y-min_y)/15"
   ]
  },
  {
   "cell_type": "markdown",
   "metadata": {},
   "source": [
    "Si costruiscono le rette che individuano la fascia di incertezza. "
   ]
  },
  {
   "cell_type": "code",
   "execution_count": null,
   "metadata": {},
   "outputs": [],
   "source": [
    "x = np.linspace(min_x-delta_x, max_x+delta_x, 100)\n",
    "y = a*x + b\n",
    "y_sup = (a+sigma_a)*x + (b+sigma_b)\n",
    "y_inf = (a-sigma_a)*x + (b-sigma_b)"
   ]
  },
  {
   "cell_type": "code",
   "execution_count": null,
   "metadata": {},
   "outputs": [],
   "source": [
    "massimo_residui = max(abs(residui))\n",
    "\n",
    "if a>=0:\n",
    "    posizione_txt = max_x - 4*delta_x\n",
    "elif a<0:\n",
    "    posizione_txt = min_x + delta_x "
   ]
  },
  {
   "cell_type": "markdown",
   "metadata": {},
   "source": [
    "Primo grafico: dispersione dei dati, retta di regressione e fascia di incertezza."
   ]
  },
  {
   "cell_type": "code",
   "execution_count": null,
   "metadata": {},
   "outputs": [],
   "source": [
    "plt.grid(which = 'both', color = '.85', linestyle = '-', linewidth=1)\n",
    "plt.vlines(dati_x, dati_y-sigma, dati_y+sigma, linewidth = .5, color = 'b')\n",
    "plt.fill_between(x, y_inf, y_sup, alpha = .1, linewidth = 0, color='r')\n",
    "plt.plot(x, y, color = 'red', linewidth = 2, label = 'retta di regressione')\n",
    "plt.scatter(dati_x, dati_y, s = 20, c = 'blue', zorder = 3, label = 'dati rilevati')\n",
    "plt.title(\"Proporzionalità resistenza/lunghezza (II legge di Ohm)\")\n",
    "plt.xlabel('lunghezza (cm)')\n",
    "plt.ylabel('resistenza ($\\Omega$)')\n",
    "plt.text(posizione_txt-delta_x, min_y+delta_y/2, 'y = ({0:6.4f})x + ({1:6.4f})\\na = {0:6.4f} $\\pm$ {2:6.4f}\\nb = {1:6.4f} $\\pm$ {3:6.4f}\\n r = {4:6.4f}'.format(a, b, sigma_a, sigma_b, coeff_correlazione), c = 'r')\n",
    "plt.legend()\n",
    "plt.show()"
   ]
  },
  {
   "cell_type": "markdown",
   "metadata": {},
   "source": [
    "Distribuzione dei residui e relativa deviazione standard."
   ]
  },
  {
   "cell_type": "code",
   "execution_count": null,
   "metadata": {},
   "outputs": [],
   "source": [
    "plt.grid(which = 'both', color = '.85', linestyle = '-', linewidth=1)\n",
    "plt.xlim([min_x-delta_x, max_x+delta_x])\n",
    "plt.ylim([-13/10*massimo_residui, 13/10*massimo_residui])\n",
    "plt.vlines(dati_x, np.zeros(n), residui, linewidth = .5, color = 'orange')\n",
    "plt.fill_between(x, -sigma, sigma, alpha =.1, linewidth = 0, color = 'r')\n",
    "plt.plot(x, np.zeros(100), color = 'red', linewidth = 2)\n",
    "plt.scatter(dati_x, residui, s = 8, c = 'blue', zorder = 3, label = 'residui: $e_i=y_i-ax_i-b$')\n",
    "plt.title(\"Distribuzione dei residui\\n devSt $\\sigma=$\" + str(round(sigma,3)))\n",
    "plt.xlabel('lunghezza (cm)')\n",
    "plt.ylabel('residui ($\\Omega$)')\n",
    "plt.legend()\n",
    "plt.show()"
   ]
  }
 ],
 "metadata": {
  "kernelspec": {
   "display_name": "Python 3.10.7 64-bit",
   "language": "python",
   "name": "python3"
  },
  "language_info": {
   "codemirror_mode": {
    "name": "ipython",
    "version": 3
   },
   "file_extension": ".py",
   "mimetype": "text/x-python",
   "name": "python",
   "nbconvert_exporter": "python",
   "pygments_lexer": "ipython3",
   "version": "3.10.7"
  },
  "orig_nbformat": 4,
  "vscode": {
   "interpreter": {
    "hash": "26de051ba29f2982a8de78e945f0abaf191376122a1563185a90213a26c5da77"
   }
  }
 },
 "nbformat": 4,
 "nbformat_minor": 2
}
