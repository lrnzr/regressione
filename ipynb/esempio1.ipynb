{
 "cells": [
  {
   "cell_type": "markdown",
   "metadata": {},
   "source": [
    "# Esempio 1\n",
    "\n",
    "*Chiede l'inserimento manuale di $n$ coppie, ciascuna nella forma $[x_i,y_i]$, calcola i coefficienti della retta di regressione e li riporata nell'output in forma testuale.*"
   ]
  },
  {
   "cell_type": "markdown",
   "metadata": {},
   "source": [
    "Importa le funzioni del modulo (libreria) NumPy"
   ]
  },
  {
   "cell_type": "code",
   "execution_count": null,
   "metadata": {},
   "outputs": [],
   "source": [
    "import numpy as np"
   ]
  },
  {
   "cell_type": "markdown",
   "metadata": {},
   "source": [
    "Presenta un prompt e chiede il numero $n$ delle coppie di dati. Evidentemente dev'essere $n>2$. "
   ]
  },
  {
   "cell_type": "code",
   "execution_count": null,
   "metadata": {},
   "outputs": [],
   "source": [
    "\n",
    "n = int(input(\"Inserire il numero di coppie di dati: \"))"
   ]
  },
  {
   "cell_type": "markdown",
   "metadata": {},
   "source": [
    "Chiede l'inserimento di ciascuna coppia, valuta la correttezza del contenuto e quindi la aggiunge all'array delle coppie di dati."
   ]
  },
  {
   "cell_type": "code",
   "execution_count": null,
   "metadata": {},
   "outputs": [],
   "source": [
    "coppie_dati = []\n",
    "for i in range(n):\n",
    "    coppia_dati = np.array(eval(input(\" \" + str(i+1) + \"^ :> \")))\n",
    "    coppie_dati.append(coppia_dati)\n",
    "\n",
    "nparray = np.array(coppie_dati)"
   ]
  },
  {
   "cell_type": "markdown",
   "metadata": {},
   "source": [
    "Traspone le coppie di dati separando in un array le ascisse dalle ordinate."
   ]
  },
  {
   "cell_type": "code",
   "execution_count": null,
   "metadata": {},
   "outputs": [],
   "source": [
    "nparrayX_Y = nparray.transpose()"
   ]
  },
  {
   "cell_type": "markdown",
   "metadata": {},
   "source": [
    "Assegna le ascisse all'array `dati_x` e le ordinate a `dati_y`."
   ]
  },
  {
   "cell_type": "code",
   "execution_count": null,
   "metadata": {},
   "outputs": [],
   "source": [
    "dati_x = nparrayX_Y[0]\n",
    "dati_y = nparrayX_Y[1]"
   ]
  },
  {
   "cell_type": "markdown",
   "metadata": {},
   "source": [
    "Esegue i prodotti $x_i\\cdot y_i$ e formandone un array."
   ]
  },
  {
   "cell_type": "code",
   "execution_count": null,
   "metadata": {},
   "outputs": [],
   "source": [
    "XY = dati_x*dati_y"
   ]
  },
  {
   "cell_type": "markdown",
   "metadata": {},
   "source": [
    "Esegue il quadrato delle $x_i$."
   ]
  },
  {
   "cell_type": "code",
   "execution_count": null,
   "metadata": {},
   "outputs": [],
   "source": [
    "quadrato_x = dati_x**2"
   ]
  },
  {
   "cell_type": "markdown",
   "metadata": {},
   "source": [
    "Applica le formule <a href=\"../regressione01.html#mjx-eqn:eq:12\">(12)</a> e <a href=\"../regressione01.html#mjx-eqn:eq:eq11\">(11)</a> della pagina di teoria <a href=\"../regressione01.html\">regressione01.html</a>  per il calcolo della pendenza $a$ e dell'intercetta $b$."
   ]
  },
  {
   "cell_type": "code",
   "execution_count": null,
   "metadata": {},
   "outputs": [],
   "source": [
    "a = (n*sum(XY) - sum(dati_x)*sum(dati_y)) / (n*sum(quadrato_x) - sum(dati_x)**2)\n",
    "b = (sum(dati_y) - a*sum(dati_x))/n"
   ]
  },
  {
   "cell_type": "markdown",
   "metadata": {},
   "source": [
    "Riporta in output la pendenza $a$ della retta di regressione e della sua intercetta $b$."
   ]
  },
  {
   "cell_type": "code",
   "execution_count": null,
   "metadata": {},
   "outputs": [],
   "source": [
    "print(\"dati inseriti\")\n",
    "print(nparray)\n",
    "print(\"output\")\n",
    "print(\"a = \" + str(a))\n",
    "print(\"b = \" + str(b))"
   ]
  }
 ],
 "metadata": {
  "kernelspec": {
   "display_name": "Python 3.10.7 64-bit",
   "language": "python",
   "name": "python3"
  },
  "language_info": {
   "codemirror_mode": {
    "name": "ipython",
    "version": 3
   },
   "file_extension": ".py",
   "mimetype": "text/x-python",
   "name": "python",
   "nbconvert_exporter": "python",
   "pygments_lexer": "ipython3",
   "version": "3.10.7"
  },
  "vscode": {
   "interpreter": {
    "hash": "26de051ba29f2982a8de78e945f0abaf191376122a1563185a90213a26c5da77"
   }
  }
 },
 "nbformat": 4,
 "nbformat_minor": 2
}
