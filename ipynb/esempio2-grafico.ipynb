{
 "cells": [
  {
   "cell_type": "markdown",
   "metadata": {},
   "source": [
    "# Esempio 2 (output grafico)\n",
    "\n",
    "*Sulla base di un certo numero di dati casuali  $n=30$, calcola i coefficienti della retta di regressione e visualizza i risultati in un grafico a dispersione.*"
   ]
  },
  {
   "cell_type": "markdown",
   "metadata": {},
   "source": [
    "Importa le funzioni dei moduli NumPy e, per la parte grafica, Matplotlib."
   ]
  },
  {
   "cell_type": "code",
   "execution_count": null,
   "metadata": {},
   "outputs": [],
   "source": [
    "import numpy as np\n",
    "import matplotlib.pyplot as plt"
   ]
  },
  {
   "cell_type": "markdown",
   "metadata": {},
   "source": [
    "Codice del tutto simile al notebook <a href=\"esempio2.ipynb\">esempio2.ipynb</a>"
   ]
  },
  {
   "cell_type": "code",
   "execution_count": null,
   "metadata": {},
   "outputs": [],
   "source": [
    "n = 30\n",
    "\n",
    "narray = []\n",
    "for i in range(n):\n",
    "    x_rnd = np.random.uniform(0,50)\n",
    "    coppia_dati = np.array([x_rnd, (2+np.random.uniform(-20,20)+(-3.5)*x_rnd)])\n",
    "    narray.append(coppia_dati)\n",
    "\n",
    "nparray = np.array(narray)\n",
    "\n",
    "nparrayX_Y = nparray.transpose()\n",
    "\n",
    "dati_x = nparrayX_Y[0]\n",
    "dati_y = nparrayX_Y[1]\n",
    "\n",
    "XY = dati_x * dati_y\n",
    "\n",
    "quadrato_x = dati_x**2\n",
    "\n",
    "a = (n*sum(XY) - sum(dati_x)*sum(dati_y)) / (n*sum(quadrato_x) - sum(dati_x)**2)\n",
    "b = (sum(dati_y) - a*sum(dati_x))/n"
   ]
  },
  {
   "cell_type": "markdown",
   "metadata": {},
   "source": [
    "Calcolo delle dimensioni degli assi: utili per definire la finestra di visualizzazione dei risultati."
   ]
  },
  {
   "cell_type": "code",
   "execution_count": null,
   "metadata": {},
   "outputs": [],
   "source": [
    "min_x = min(dati_x)\n",
    "max_x = max(dati_x)\n",
    "min_y = min(dati_y)\n",
    "max_y = max(dati_y)\n",
    "delta_x = (max_x-min_x)/15\n",
    "delta_y = (max_y-min_y)/15"
   ]
  },
  {
   "cell_type": "markdown",
   "metadata": {},
   "source": [
    "Definisce 100 punti equispaziati in ascissa e calcola le corrispondenti ordinate sulla retta di regressione $y=ax+b$."
   ]
  },
  {
   "cell_type": "code",
   "execution_count": null,
   "metadata": {},
   "outputs": [],
   "source": [
    "x = np.linspace(min_x-delta_x, max_x+delta_x, 100)\n",
    "y = a*x + b"
   ]
  },
  {
   "cell_type": "markdown",
   "metadata": {},
   "source": [
    "In corrispondenza dei valori \"misurati\" delle ascisse, calcola l'ordinata prevista dal modello"
   ]
  },
  {
   "cell_type": "code",
   "execution_count": null,
   "metadata": {},
   "outputs": [],
   "source": [
    "previsioni_y = a*dati_x + b"
   ]
  },
  {
   "cell_type": "markdown",
   "metadata": {},
   "source": [
    "A seconda del segno della pendenza definisce la posizione del riquadro dei risultati"
   ]
  },
  {
   "cell_type": "code",
   "execution_count": null,
   "metadata": {},
   "outputs": [],
   "source": [
    "if a>=0:\n",
    "    posizione_txt = max_x - 4*delta_x\n",
    "elif a<0:\n",
    "    posizione_txt = min_x + delta_x "
   ]
  },
  {
   "cell_type": "markdown",
   "metadata": {},
   "source": [
    "La parte grafica riporta la dispersione dei dati, la linea di tendenza o regressione e i segmenti che rappresentano i residui. In riquadro i risultati. "
   ]
  },
  {
   "cell_type": "code",
   "execution_count": null,
   "metadata": {},
   "outputs": [],
   "source": [
    "plt.grid(which='both', color = '.85', linestyle='-', linewidth=1)\n",
    "plt.vlines(dati_x, dati_y,previsioni_y, linewidth = 1, color = 'orange')\n",
    "plt.plot(x,y, color = 'red', linewidth = 2, label = 'retta di regressione')\n",
    "plt.scatter(dati_x, previsioni_y, s = 2, c = 'b', zorder = 2)\n",
    "plt.scatter(dati_x, dati_y, s = 10, c = 'cornflowerblue', zorder = 3, label = 'dati rilevati')\n",
    "plt.title(\"Dati e regressione lineare\")\n",
    "plt.xlabel('grandezza X')\n",
    "plt.ylabel('grandezza Y')\n",
    "plt.text(posizione_txt, min_y+delta_y/2, 'y = ('+str(round(a,2))+')x + ('+str(round(b,2))+')',c='r')\n",
    "plt.legend()\n",
    "plt.show()"
   ]
  }
 ],
 "metadata": {
  "kernelspec": {
   "display_name": "Python 3.10.7 64-bit",
   "language": "python",
   "name": "python3"
  },
  "language_info": {
   "codemirror_mode": {
    "name": "ipython",
    "version": 3
   },
   "file_extension": ".py",
   "mimetype": "text/x-python",
   "name": "python",
   "nbconvert_exporter": "python",
   "pygments_lexer": "ipython3",
   "version": "3.10.7"
  },
  "orig_nbformat": 4,
  "vscode": {
   "interpreter": {
    "hash": "26de051ba29f2982a8de78e945f0abaf191376122a1563185a90213a26c5da77"
   }
  }
 },
 "nbformat": 4,
 "nbformat_minor": 2
}
