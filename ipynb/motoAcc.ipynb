{
 "cells": [
  {
   "cell_type": "markdown",
   "metadata": {},
   "source": [
    "# Moto uniformemente accelerato: $s=at^2\\!/2$\n",
    "\n",
    "*Sulla base della lettura di un file CSV, calcola i quadrati delle ascisse per linearizzare la relazione con le ordinate e quindi fornisce i coefficienti della retta di regressione, le incertezze dei parametri e il coefficiente di correlazione utilizzando la funzione `linregress` del pacchetto SciPy.\n",
    "Visualizza i risultati in due grafici a dispersione dove, per la piccolezza delle incertezze, appaiono solo i dati: il primo comprendente i dati linearizzati, il secondo gli stessi non linearizzati.*"
   ]
  },
  {
   "cell_type": "code",
   "execution_count": null,
   "metadata": {},
   "outputs": [],
   "source": [
    "import numpy as np\n",
    "import matplotlib.pyplot as plt\n",
    "from scipy.stats import linregress"
   ]
  },
  {
   "cell_type": "code",
   "execution_count": null,
   "metadata": {},
   "outputs": [],
   "source": [
    "nome_file = input(\"Inserire il nome del file CSV: \")\n",
    "# motoAcc.csv\n",
    "file_in = open(nome_file, \"r\")\n",
    "coppie_dati = np.loadtxt(file_in, delimiter = \",\", comments = '#', usecols = (0,1))"
   ]
  },
  {
   "cell_type": "markdown",
   "metadata": {},
   "source": [
    "Viene utilizzata la funzione `linregress()` della libreria SciPy. Riportati i risultati nella tuple `esiti` vengono da questa estratti gli elementi ``slope`` e ``intercept``."
   ]
  },
  {
   "cell_type": "code",
   "execution_count": null,
   "metadata": {},
   "outputs": [],
   "source": [
    "n = len(coppie_dati)\n",
    "\n",
    "nparrayX_Y = coppie_dati.transpose()\n",
    "dati_x = nparrayX_Y[0]\n",
    "# i dati in ascissa vengono linearizzati eseguendone il quadrato\n",
    "dati_x_quad = dati_x**2\n",
    "dati_y = nparrayX_Y[1]\n",
    "file_in.close()\n",
    "\n",
    "esiti = linregress(dati_x_quad, dati_y)\n",
    "\n",
    "a = esiti.slope\n",
    "b = esiti.intercept"
   ]
  },
  {
   "cell_type": "markdown",
   "metadata": {},
   "source": [
    "Si estraggono le stime delle varie deviazioni standard e il coefficiente di correlazione."
   ]
  },
  {
   "cell_type": "code",
   "execution_count": null,
   "metadata": {},
   "outputs": [],
   "source": [
    "previsioni_y = a*dati_x_quad + b\n",
    "residui = dati_y - previsioni_y\n",
    "\n",
    "sigma = np.std(residui, ddof=2)\n",
    "sigma_a = esiti.stderr\n",
    "sigma_b = esiti.intercept_stderr\n",
    "coeff_correlazione = esiti.rvalue"
   ]
  },
  {
   "cell_type": "markdown",
   "metadata": {},
   "source": [
    "Definiscono gli estremi degli intervalli entro cui tracciare la retta e la parabola"
   ]
  },
  {
   "cell_type": "code",
   "execution_count": null,
   "metadata": {},
   "outputs": [],
   "source": [
    "min_x_quad = min(dati_x_quad)\n",
    "max_x_quad = max(dati_x_quad)\n",
    "delta_x_quad = (max_x_quad-min_x_quad)/15\n",
    "\n",
    "min_x = min(dati_x)\n",
    "max_x = max(dati_x)\n",
    "delta_x = (max_x-min_x)/15"
   ]
  },
  {
   "cell_type": "markdown",
   "metadata": {},
   "source": [
    "Si costruiscono le rette che individuano la fascia di incertezza (non appaiono nei grafici perché sovrapposte dalla retta e dalla parabola di regressione)"
   ]
  },
  {
   "cell_type": "code",
   "execution_count": null,
   "metadata": {},
   "outputs": [],
   "source": [
    "x_quad = np.linspace(min_x_quad-delta_x_quad, max_x_quad+delta_x_quad, 100)\n",
    "y_quad = a*x_quad + b\n",
    "y_sup_quad = (a+sigma_a)*x_quad + (b+sigma_b)\n",
    "y_inf_quad = (a-sigma_a)*x_quad + (b-sigma_b)\n",
    "\n",
    "x = np.linspace(min_x-delta_x, max_x+delta_x, 100)\n",
    "y = a*x**2 + b\n",
    "y_sup = (a+sigma_a)*x + (b+sigma_b)\n",
    "y_inf = (a-sigma_a)*x + (b-sigma_b)"
   ]
  },
  {
   "cell_type": "markdown",
   "metadata": {},
   "source": [
    "Primo grafico: dispersione dei dati, retta di regressione e fascia di incertezza (il posizionamento del testo è scelto ad hoc)."
   ]
  },
  {
   "cell_type": "code",
   "execution_count": null,
   "metadata": {},
   "outputs": [],
   "source": [
    "plt.grid(which = 'both', color = '.85', linestyle = '-', linewidth=1)\n",
    "plt.vlines(dati_x_quad, dati_y-sigma, dati_y+sigma, linewidth = .5, color = 'b')\n",
    "plt.fill_between(x_quad, y_inf_quad, y_sup_quad, alpha = .1, linewidth = 0, color='r')\n",
    "plt.plot(x_quad, y_quad, color = 'red', linewidth = 2, label = 'retta di regressione')\n",
    "plt.scatter(dati_x_quad, dati_y, s = 10, c = 'cornflowerblue', zorder = 3, label = 'dati rilevati')\n",
    "plt.title(\"Moto uniformemente accelerato\")\n",
    "plt.xlabel('quadrato degli istanti $z=t^2$ (s$^2$)')\n",
    "plt.ylabel('posizione y (m)')\n",
    "plt.text(2.85, 0, 'y = ({0:6.4f})z + ({1:6.4f})\\na = {0:6.4f} $\\pm$ {2:6.4f}\\nb = {1:6.4f} $\\pm$ {3:6.4f}\\n r = {4:6.3f}\\naccel = {5:6.4f} m/s$^2$\\n$\\sigma(accel)$ = {6:6.4f} m/s$^2$'.format(a, b, sigma_a, sigma_b, coeff_correlazione, 2*a, 2*sigma_a), c = 'r')\n",
    "plt.legend()\n",
    "plt.show()"
   ]
  },
  {
   "cell_type": "markdown",
   "metadata": {},
   "source": [
    "Parabola di regressione con sovrapposti i dati iniziali."
   ]
  },
  {
   "cell_type": "code",
   "execution_count": null,
   "metadata": {},
   "outputs": [],
   "source": [
    "plt.grid(which = 'both', color = '.85', linestyle = '-', linewidth=1)\n",
    "plt.vlines(dati_x, dati_y-sigma, dati_y+sigma, linewidth = .5, color = 'b')\n",
    "plt.fill_between(x, y_inf, y_sup, alpha = .1, linewidth = 0, color='r')\n",
    "plt.plot(x, y, color = 'red', linewidth = 2, label = 'parabola di regressione')\n",
    "plt.scatter(dati_x, dati_y, s = 10, c = 'cornflowerblue', zorder = 3, label = 'dati rilevati')\n",
    "plt.title(\"Moto uniformemente accelerato\")\n",
    "plt.xlabel('istanti t (s)')\n",
    "plt.ylabel('posizione y (m)')\n",
    "plt.text(0, .4, 'y = ({0:6.4f})$\\,t^2$ + ({1:6.4f})\\na = {0:6.4f} $\\pm$ {2:6.4f}\\nb = {1:6.4f} $\\pm$ {3:6.4f}\\n r = {4:6.3f}\\naccel = {5:6.4f} m/s$^2$\\n$\\sigma(accel)$ = {6:6.4f} m/s$^2$'.format(a, b, sigma_a, sigma_b, coeff_correlazione, 2*a, 2*sigma_a), c = 'r')\n",
    "plt.legend()\n",
    "plt.show()"
   ]
  }
 ],
 "metadata": {
  "kernelspec": {
   "display_name": "Python 3.10.7 64-bit",
   "language": "python",
   "name": "python3"
  },
  "language_info": {
   "codemirror_mode": {
    "name": "ipython",
    "version": 3
   },
   "file_extension": ".py",
   "mimetype": "text/x-python",
   "name": "python",
   "nbconvert_exporter": "python",
   "pygments_lexer": "ipython3",
   "version": "3.10.7"
  },
  "orig_nbformat": 4,
  "vscode": {
   "interpreter": {
    "hash": "26de051ba29f2982a8de78e945f0abaf191376122a1563185a90213a26c5da77"
   }
  }
 },
 "nbformat": 4,
 "nbformat_minor": 2
}
