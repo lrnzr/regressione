{
 "cells": [
  {
   "cell_type": "markdown",
   "metadata": {},
   "source": [
    "# Esempio 3 (completo)\n",
    "\n",
    "*Sulla base della lettura di un file CSV, calcola i coefficienti della retta di regressione, le incertezze dei parametri e il coeff. di correlazione.\n",
    "Visualizza i risultati in due grafici a dispersione: il primo comprendente i dati, il secondo i residui.*"
   ]
  },
  {
   "cell_type": "code",
   "execution_count": null,
   "metadata": {},
   "outputs": [],
   "source": [
    "import numpy as np\n",
    "import matplotlib.pyplot as plt"
   ]
  },
  {
   "cell_type": "code",
   "execution_count": null,
   "metadata": {},
   "outputs": [],
   "source": [
    "nome_file = input(\"Inserire il nome del file CSV: \")\n",
    "file_in = open(nome_file, \"r\")\n",
    "# per es. dati4.csv\n",
    "coppie_dati = np.loadtxt(file_in, delimiter = \",\", comments = '#', usecols = (0,1))"
   ]
  },
  {
   "cell_type": "code",
   "execution_count": null,
   "metadata": {},
   "outputs": [],
   "source": [
    "n = len(coppie_dati)\n",
    "\n",
    "nparrayX_Y = coppie_dati.transpose()\n",
    "\n",
    "dati_x = nparrayX_Y[0]\n",
    "dati_y = nparrayX_Y[1]\n",
    "\n",
    "file_in.close()\n",
    "\n",
    "XY = dati_x * dati_y\n",
    "\n",
    "quadrato_x = dati_x**2\n",
    "delta = (n*sum(quadrato_x) - sum(dati_x)**2)\n",
    "\n",
    "a = (n*sum(XY) - sum(dati_x)*sum(dati_y)) / delta\n",
    "b = (sum(dati_y) - a*sum(dati_x))/n"
   ]
  },
  {
   "cell_type": "code",
   "execution_count": null,
   "metadata": {},
   "outputs": [],
   "source": [
    "previsioni_y = a*dati_x + b\n",
    "residui = dati_y - previsioni_y"
   ]
  },
  {
   "cell_type": "markdown",
   "metadata": {},
   "source": [
    "Calcolo delle deviazioni standard dei dati $\\sigma$ e dei parametri $\\sigma_a$ e $\\sigma_b$ in base alle formule <a href=\"regressione01.html#mjx-eqn:eq:20\">(20)</a> e <a href=\"regressione01.html#mjx-eqn:eq:21\">(21)</a> della pagina di teoria."
   ]
  },
  {
   "cell_type": "code",
   "execution_count": null,
   "metadata": {},
   "outputs": [],
   "source": [
    "sigma = np.sqrt(sum(residui**2)/(n-2))\n",
    "sigma_a = sigma*np.sqrt(n/delta)\n",
    "sigma_b = sigma*np.sqrt(sum(quadrato_x)/delta)\n",
    "\n",
    "media_x = np.mean(dati_x)\n",
    "media_y = np.mean(dati_y)\n",
    "coeff_correlazione = sum((dati_x-media_x)*(dati_y-media_y))/np.sqrt(sum((dati_x-media_x)**2)*sum((dati_y-media_y)**2))"
   ]
  },
  {
   "cell_type": "code",
   "execution_count": null,
   "metadata": {},
   "outputs": [],
   "source": [
    "min_x = min(dati_x)\n",
    "max_x = max(dati_x)\n",
    "min_y = min(dati_y)\n",
    "max_y = max(dati_y)\n",
    "delta_x = (max_x-min_x)/15\n",
    "delta_y = (max_y-min_y)/15"
   ]
  },
  {
   "cell_type": "code",
   "execution_count": null,
   "metadata": {},
   "outputs": [],
   "source": [
    "x = np.linspace(min_x-delta_x, max_x+delta_x, 100)\n",
    "y = a*x + b\n",
    "y_sup = (a+sigma_a)*x + (b+sigma_b)\n",
    "y_inf = (a-sigma_a)*x + (b-sigma_b)"
   ]
  },
  {
   "cell_type": "code",
   "execution_count": null,
   "metadata": {},
   "outputs": [],
   "source": [
    "massimo_residui = max(abs(residui))\n",
    "\n",
    "if a>=0:\n",
    "    posizione_txt = max_x - 4*delta_x\n",
    "elif a<0:\n",
    "    posizione_txt = min_x + delta_x"
   ]
  },
  {
   "cell_type": "markdown",
   "metadata": {},
   "source": [
    "Parte grafica: dispersione dei dati."
   ]
  },
  {
   "cell_type": "code",
   "execution_count": null,
   "metadata": {},
   "outputs": [],
   "source": [
    "plt.grid(which = 'both', color = '.85', linestyle = '-', linewidth=1)\n",
    "plt.vlines(dati_x, dati_y-sigma, dati_y+sigma, linewidth = .5, color = 'b')\n",
    "plt.fill_between(x, y_inf, y_sup, alpha = .1, linewidth = 0, color='r')\n",
    "plt.plot(x, y, color = 'red', linewidth = 2, label = 'retta di regressione')\n",
    "plt.scatter(dati_x, dati_y, s = 20, c = 'cornflowerblue', zorder = 3, label = 'dati rilevati')\n",
    "plt.title(\"Retta di regressione e fascia di incertezza\")\n",
    "plt.xlabel('grandezza X')\n",
    "plt.ylabel('grandezza Y')\n",
    "plt.text(posizione_txt, min_y+delta_y/2, 'y = ('+str(round(a,2))+')x + ('+str(round(b,2))+')\\n a = '+str(round(a,2))+' $\\pm$ '+str(round(sigma_a,2))+'\\n b = '+str(round(b,2))+' $\\pm$ '+str(round(sigma_b,2))+'\\n r = '+str(round(coeff_correlazione,2)), c = 'r')\n",
    "plt.legend()\n",
    "plt.show()"
   ]
  },
  {
   "cell_type": "markdown",
   "metadata": {},
   "source": [
    "Dispersione dei residui."
   ]
  },
  {
   "cell_type": "code",
   "execution_count": null,
   "metadata": {},
   "outputs": [],
   "source": [
    "plt.grid(which = 'both', color = '.85', linestyle = '-', linewidth=1)\n",
    "plt.xlim([min_x-delta_x, max_x+delta_x])\n",
    "plt.ylim([-13/10*massimo_residui, 13/10*massimo_residui])\n",
    "plt.vlines(dati_x, np.zeros(n), residui, linewidth = .5, color = 'orange')\n",
    "plt.fill_between(x, -sigma, sigma, alpha =.1, linewidth = 0, color = 'r')\n",
    "plt.plot(x, np.zeros(100), color = 'red', linewidth = 2)\n",
    "plt.scatter(dati_x, residui, s = 8, c = 'cornflowerblue', zorder = 3, label = 'residui: $y_i-ax_i-b$')\n",
    "plt.title(\"Distribuzione dei residui\\n devSt $\\sigma=$\" + str(round(sigma,2)))\n",
    "plt.xlabel('grandezza X')\n",
    "plt.ylabel('residui')\n",
    "plt.legend()\n",
    "plt.show()"
   ]
  }
 ],
 "metadata": {
  "kernelspec": {
   "display_name": "Python 3.10.7 64-bit",
   "language": "python",
   "name": "python3"
  },
  "language_info": {
   "codemirror_mode": {
    "name": "ipython",
    "version": 3
   },
   "file_extension": ".py",
   "mimetype": "text/x-python",
   "name": "python",
   "nbconvert_exporter": "python",
   "pygments_lexer": "ipython3",
   "version": "3.10.7"
  },
  "orig_nbformat": 4,
  "vscode": {
   "interpreter": {
    "hash": "26de051ba29f2982a8de78e945f0abaf191376122a1563185a90213a26c5da77"
   }
  }
 },
 "nbformat": 4,
 "nbformat_minor": 2
}
