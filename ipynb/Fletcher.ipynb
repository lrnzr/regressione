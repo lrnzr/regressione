{
 "cells": [
  {
   "cell_type": "markdown",
   "metadata": {},
   "source": [
    "# Esperienza di Fletcher\n",
    "\n",
    "*Sulla base della lettura di un file CSV contenente le masse traenti, l'accelerazione rilevata e la massa del carrello, calcola i coefficienti della retta di regressione, le incertezze dei parametri e il coeffiente di correlazione utilizzando la funzione `linregress` del pacchetto SciPy.\n",
    "Visualizza i risultati in un grafico a dispersione e fornisce una tabella di raffronto tra l'accelerazione rilevata e quella prevista.*"
   ]
  },
  {
   "cell_type": "code",
   "execution_count": null,
   "metadata": {},
   "outputs": [],
   "source": [
    "import numpy as np\n",
    "import matplotlib.pyplot as plt\n",
    "from scipy.stats import linregress\n",
    "# funzione utile per formattare la tabella finale\n",
    "from tabulate import tabulate"
   ]
  },
  {
   "cell_type": "code",
   "execution_count": null,
   "metadata": {},
   "outputs": [],
   "source": [
    "nome_file = input(\"Inserire il nome del file CSV: \")\n",
    "# il file Fletcher.csv riporta i dati in tre colonne\n",
    "file_in = open(nome_file, \"r\")\n",
    "coppie_dati = np.loadtxt(file_in, delimiter = \",\", comments = '#', usecols = (0,1,2))"
   ]
  },
  {
   "cell_type": "markdown",
   "metadata": {},
   "source": [
    "Viene utilizzata la funzione `linregress()` della libreria SciPy. Riportati i risultati nella tuple `esiti` dalla quale vengono estratti gli elementi ``slope`` e ``intercept``."
   ]
  },
  {
   "cell_type": "code",
   "execution_count": null,
   "metadata": {},
   "outputs": [],
   "source": [
    "n = len(coppie_dati)\n",
    "\n",
    "nparrayX_Y = coppie_dati.transpose()\n",
    "dati_x = nparrayX_Y[0]\n",
    "dati_y = nparrayX_Y[1]\n",
    "dati_M = nparrayX_Y[2]\n",
    "file_in.close()\n",
    "\n",
    "esiti = linregress(dati_x,dati_y)\n",
    "\n",
    "a = esiti.slope\n",
    "b = esiti.intercept"
   ]
  },
  {
   "cell_type": "markdown",
   "metadata": {},
   "source": [
    "Qui si estraggono le stime delle deviazioni standard e il coefficiente di correlazione."
   ]
  },
  {
   "cell_type": "code",
   "execution_count": null,
   "metadata": {},
   "outputs": [],
   "source": [
    "previsioni_y = a*dati_x + b\n",
    "residui = dati_y - previsioni_y\n",
    "\n",
    "sigma = np.std(residui, ddof=2)\n",
    "sigma_a = esiti.stderr\n",
    "sigma_b = esiti.intercept_stderr\n",
    "coeff_correlazione = esiti.rvalue"
   ]
  },
  {
   "cell_type": "code",
   "execution_count": null,
   "metadata": {},
   "outputs": [],
   "source": [
    "min_x = min(dati_x)\n",
    "max_x = max(dati_x)\n",
    "min_y = min(dati_y)\n",
    "max_y = max(dati_y)\n",
    "delta_x = (max_x-min_x)/15\n",
    "delta_y = (max_y-min_y)/15"
   ]
  },
  {
   "cell_type": "markdown",
   "metadata": {},
   "source": [
    "Si costruiscono le rette che individuano la fascia di incertezza. "
   ]
  },
  {
   "cell_type": "code",
   "execution_count": null,
   "metadata": {},
   "outputs": [],
   "source": [
    "x = np.linspace(min_x-delta_x, max_x+delta_x, 100)\n",
    "y = a*x + b\n",
    "y_sup = (a+sigma_a)*x + (b+sigma_b)\n",
    "y_inf = (a-sigma_a)*x + (b-sigma_b)"
   ]
  },
  {
   "cell_type": "code",
   "execution_count": null,
   "metadata": {},
   "outputs": [],
   "source": [
    "massimo_residui = max(abs(residui))\n",
    "\n",
    "if a>=0:\n",
    "    posizione_txt = max_x - 4*delta_x\n",
    "elif a<0:\n",
    "    posizione_txt = min_x + delta_x "
   ]
  },
  {
   "cell_type": "markdown",
   "metadata": {},
   "source": [
    "Dispersione dei dati, retta di regressione. La fascia di incertezza non appare data l'esiguità dell'errore."
   ]
  },
  {
   "cell_type": "code",
   "execution_count": null,
   "metadata": {},
   "outputs": [],
   "source": [
    "plt.grid(which = 'both', color = '.85', linestyle = '-', linewidth=1)\n",
    "plt.vlines(dati_x, dati_y-sigma, dati_y+sigma, linewidth = .5, color = 'b')\n",
    "plt.fill_between(x, y_inf, y_sup, alpha = .1, linewidth = 0, color='r')\n",
    "plt.plot(x, y, color = 'red', linewidth = 2, label = 'retta di regressione')\n",
    "plt.scatter(dati_x, dati_y, s = 20, c = 'blue', zorder = 3, label = 'dati rilevati')\n",
    "plt.title(\"Proporzionalità tra accelerazione e masse traenti\")\n",
    "plt.xlabel('massa traente (g)')\n",
    "plt.ylabel('accelerazione (m/s^2)')\n",
    "plt.text(posizione_txt-delta_x, delta_y, 'y = ({0:6.4f})x + ({1:6.3f})\\n a = {0:6.4f} $\\pm$ {2:6.4f}\\n b = {1:6.3f} $\\pm$ {3:6.3f}\\n r = {4:6.3f}'.format(a, b, sigma_a, sigma_b, coeff_correlazione), c = 'r')\n",
    "plt.legend()\n",
    "plt.show()"
   ]
  },
  {
   "cell_type": "markdown",
   "metadata": {},
   "source": [
    "Fissato il valore dell'accelerazione di gravità, si calcola l'accelerazione prevista in base alle masse coinvolte in ciascuna prova e quindi si confronta quella rilevata con quella prevista."
   ]
  },
  {
   "cell_type": "code",
   "execution_count": null,
   "metadata": {},
   "outputs": [],
   "source": [
    "g = 9.81\n",
    "acc_prev = g/(dati_x+dati_M)*dati_x\n",
    "delta_acc = dati_y - acc_prev"
   ]
  },
  {
   "cell_type": "markdown",
   "metadata": {},
   "source": [
    "Utilizzando la funzione di libreria ``tabulate`` si costruisce la tabella finale di raffronto."
   ]
  },
  {
   "cell_type": "code",
   "execution_count": null,
   "metadata": {},
   "outputs": [],
   "source": [
    "\n",
    "tabella = np.transpose([dati_M, dati_x, dati_y, acc_prev, delta_acc ])\n",
    "print(tabulate(tabella,headers=[\"massa carrello (g)\",\"massa traente: m_t (g)\",\"acc.rilevata: a_r (m/s^2)\",\"acc.prevista: a_p (m/s^2)\",\"a_r-a_p (m/s^2)\"],floatfmt=(\".1f\",\".1f\",\".4f\",\".4f\",\".2f\")))"
   ]
  }
 ],
 "metadata": {
  "kernelspec": {
   "display_name": "Python 3.10.7 64-bit",
   "language": "python",
   "name": "python3"
  },
  "language_info": {
   "codemirror_mode": {
    "name": "ipython",
    "version": 3
   },
   "file_extension": ".py",
   "mimetype": "text/x-python",
   "name": "python",
   "nbconvert_exporter": "python",
   "pygments_lexer": "ipython3",
   "version": "3.10.7"
  },
  "orig_nbformat": 4,
  "vscode": {
   "interpreter": {
    "hash": "26de051ba29f2982a8de78e945f0abaf191376122a1563185a90213a26c5da77"
   }
  }
 },
 "nbformat": 4,
 "nbformat_minor": 2
}
