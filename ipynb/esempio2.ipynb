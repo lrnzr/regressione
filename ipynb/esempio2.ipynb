{
 "cells": [
  {
   "cell_type": "markdown",
   "metadata": {},
   "source": [
    "# Regressione 2\n",
    "\n",
    "*Genera un certo numero di dati casuali (30 nel sorgente) e quindi li salva su disco nel file `FileDati.csv` separando ciascuna coppia con una virgola. Come nell'esempio <a href=\"regressione001.html\">1</a> riporta in output i coefficienti della retta di regressione.*"
   ]
  },
  {
   "cell_type": "markdown",
   "metadata": {},
   "source": [
    "Importa le funzioni del modulo (libreria) NumPy"
   ]
  },
  {
   "cell_type": "code",
   "execution_count": null,
   "metadata": {},
   "outputs": [],
   "source": [
    "import numpy as np"
   ]
  },
  {
   "cell_type": "markdown",
   "metadata": {},
   "source": [
    "Definisce il numero delle coppie di dati (30). (Eventualmente nodificare il valore se si sta utilizzando il notebook in forma interattiva)."
   ]
  },
  {
   "cell_type": "code",
   "execution_count": null,
   "metadata": {},
   "outputs": [],
   "source": [
    "n = 30"
   ]
  },
  {
   "cell_type": "markdown",
   "metadata": {},
   "source": [
    "Costruisce l'array delle $n$ coppie. Le ascisse sono valori distribuiti casualmente tra 0 e 50 mentre le ordinate sono calcolate pure in modo casuale attorno alla retta di equazione $y=-3.5 x+(2+rnd(-20,20))$ dove $rnd(-20,20)$ rappresenta un numero casuale nell'intervallo $[-20,20]$.\n",
    "Salva quindi nella cartella corrente l'insieme delle coppie nel formato *comma-separated value* (CSV) e nel file `fileDati.csv`."
   ]
  },
  {
   "cell_type": "code",
   "execution_count": null,
   "metadata": {},
   "outputs": [],
   "source": [
    "narray = []\n",
    "for i in range(n):\n",
    "    x_rnd = np.random.uniform(0,50)\n",
    "    coppia_dati = np.array([x_rnd, (2+np.random.uniform(-20,20)+(-3.5)*x_rnd)])\n",
    "    narray.append(coppia_dati)\n",
    "\n",
    "nparray = np.array(narray)\n",
    "np.savetxt('fileDati.csv', nparray, delimiter = ',')"
   ]
  },
  {
   "cell_type": "markdown",
   "metadata": {},
   "source": [
    "Raggruppa assieme le ascisse e le ordinate e calcola i loro prodotti $x_i,y_i$ e i quadrati delle ascisse."
   ]
  },
  {
   "cell_type": "code",
   "execution_count": null,
   "metadata": {},
   "outputs": [],
   "source": [
    "nparrayX_Y = nparray.transpose()\n",
    "\n",
    "dati_x = nparrayX_Y[0]\n",
    "dati_y = nparrayX_Y[1]\n",
    "\n",
    "XY = dati_x * dati_y\n",
    "\n",
    "quadrato_x = dati_x**2"
   ]
  },
  {
   "cell_type": "markdown",
   "metadata": {},
   "source": [
    "Applica le formule <a href=\"../regressione01.html#mjx-eqn:eq:13\">(13)</a> e <a href=\"../regressione01.html#mjx-eqn:eq:eq12\">(12)</a> della pagina di teoria <a href=\"../regressione01.html\">regressione01.html</a> per il calcolo della pendenza $a$ e dell'intercetta $b$."
   ]
  },
  {
   "cell_type": "code",
   "execution_count": null,
   "metadata": {},
   "outputs": [],
   "source": [
    "\n",
    "a = (n*sum(XY) - sum(dati_x)*sum(dati_y)) / (n*sum(quadrato_x) - sum(dati_x)**2)\n",
    "b = (sum(dati_y) - a*sum(dati_x))/n"
   ]
  },
  {
   "cell_type": "markdown",
   "metadata": {},
   "source": [
    "Riporta in output la pendenza $a$ della retta di regressione e della sua intercetta $b$."
   ]
  },
  {
   "cell_type": "code",
   "execution_count": null,
   "metadata": {},
   "outputs": [],
   "source": [
    "print()\n",
    "print(\"a = \" + str(a))\n",
    "print(\"b = \" + str(b))"
   ]
  }
 ],
 "metadata": {
  "kernelspec": {
   "display_name": "Python 3.10.7 64-bit",
   "language": "python",
   "name": "python3"
  },
  "language_info": {
   "name": "python",
   "version": "3.10.7"
  },
  "orig_nbformat": 4,
  "vscode": {
   "interpreter": {
    "hash": "26de051ba29f2982a8de78e945f0abaf191376122a1563185a90213a26c5da77"
   }
  }
 },
 "nbformat": 4,
 "nbformat_minor": 2
}
