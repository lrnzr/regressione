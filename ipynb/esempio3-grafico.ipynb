{
 "cells": [
  {
   "cell_type": "markdown",
   "metadata": {},
   "source": [
    "# Esempio 3 (con grafico)\n",
    "\n",
    "*Sulla base della lettura di un file CSV, calcola i coefficienti della retta di regressione. Visualizza i risultati in due grafici a dispersione: il primo comprendente i dati, il secondo i residui.*"
   ]
  },
  {
   "cell_type": "code",
   "execution_count": null,
   "metadata": {},
   "outputs": [],
   "source": [
    "import numpy as np\n",
    "import matplotlib.pyplot as plt"
   ]
  },
  {
   "cell_type": "code",
   "execution_count": null,
   "metadata": {},
   "outputs": [],
   "source": [
    "nome_file = input(\"Inserire il nome del file CSV: \")\n",
    "file_in = open(nome_file, \"r\")\n",
    "# per es., dati3.csv\n",
    "coppie_dati = np.loadtxt(file_in, delimiter = \",\", comments = '#', usecols = (0,1))"
   ]
  },
  {
   "cell_type": "markdown",
   "metadata": {},
   "source": [
    "Separa le coppie di dati in ascisse e ordinate e, dopo aver ottenuto i loro prodotti, calcola i parametri della retta di regressione."
   ]
  },
  {
   "cell_type": "code",
   "execution_count": null,
   "metadata": {},
   "outputs": [],
   "source": [
    "n = len(coppie_dati)\n",
    "\n",
    "nparrayX_Y = coppie_dati.transpose()\n",
    "\n",
    "dati_x = nparrayX_Y[0]\n",
    "dati_y = nparrayX_Y[1]\n",
    "\n",
    "file_in.close()\n",
    "\n",
    "XY = dati_x * dati_y\n",
    "\n",
    "quadrato_x = dati_x**2\n",
    "\n",
    "a = (n*sum(XY) - sum(dati_x)*sum(dati_y)) / (n*sum(quadrato_x) - sum(dati_x)**2)\n",
    "b = (sum(dati_y) - a*sum(dati_x))/n"
   ]
  },
  {
   "cell_type": "markdown",
   "metadata": {},
   "source": [
    "Valori utili per definire le posizioni nella parte grafica"
   ]
  },
  {
   "cell_type": "code",
   "execution_count": null,
   "metadata": {},
   "outputs": [],
   "source": [
    "min_x = min(dati_x)\n",
    "max_x = max(dati_x)\n",
    "min_y = min(dati_y)\n",
    "max_y = max(dati_y)\n",
    "delta_x = (max_x-min_x)/15\n",
    "delta_y = (max_y-min_y)/15"
   ]
  },
  {
   "cell_type": "markdown",
   "metadata": {},
   "source": [
    "Calcolo dei punti sulla retta di regressione"
   ]
  },
  {
   "cell_type": "code",
   "execution_count": null,
   "metadata": {},
   "outputs": [],
   "source": [
    "x = np.linspace(min_x-delta_x, max_x+delta_x, 100)\n",
    "y = a*x + b\n",
    "\n",
    "previsioni_y = a*dati_x + b"
   ]
  },
  {
   "cell_type": "markdown",
   "metadata": {},
   "source": [
    "Calcolo dei residui e della posizione dove collocare gli esiti sul grafico a dispersione dei dati."
   ]
  },
  {
   "cell_type": "code",
   "execution_count": null,
   "metadata": {},
   "outputs": [],
   "source": [
    "residui = dati_y - previsioni_y\n",
    "massimo_residui = max(abs(residui))\n",
    "\n",
    "if a>=0:\n",
    "    posizione_txt = max_x - 4*delta_x\n",
    "elif a<0:\n",
    "    posizione_txt = min_x + delta_x "
   ]
  },
  {
   "cell_type": "markdown",
   "metadata": {},
   "source": [
    "Primo grafico: dispersione dei dati e retta."
   ]
  },
  {
   "cell_type": "code",
   "execution_count": null,
   "metadata": {},
   "outputs": [],
   "source": [
    "plt.grid(which='both', color = '.85', linestyle='-', linewidth=1)\n",
    "plt.vlines(dati_x, dati_y, previsioni_y, linewidth = 1, color = 'orange')\n",
    "plt.plot(x, y, color = 'red', linewidth = 2, label = 'retta di regressione')\n",
    "plt.scatter(dati_x, previsioni_y, s = 2, c = 'b', zorder = 2)\n",
    "plt.scatter(dati_x, dati_y, s = 10, c = 'cornflowerblue', zorder = 3, label = 'dati rilevati')\n",
    "plt.title(\"Dati e regressione lineare\")\n",
    "plt.xlabel('grandezza X')\n",
    "plt.ylabel('grandezza Y')\n",
    "plt.text(posizione_txt, min_y+delta_y/2, 'y = ('+str(round(a,2))+')x + ('+str(round(b,2))+')',c='r')\n",
    "plt.legend()\n",
    "plt.show()"
   ]
  },
  {
   "cell_type": "markdown",
   "metadata": {},
   "source": [
    "Secondo grafico: dispersione dei residui."
   ]
  },
  {
   "cell_type": "code",
   "execution_count": null,
   "metadata": {},
   "outputs": [],
   "source": [
    "plt.grid(which='both', color = '.85', linestyle='-', linewidth=1)\n",
    "plt.xlim([min_x-delta_x, max_x+delta_x])\n",
    "plt.ylim([-13/10*massimo_residui, 13/10*massimo_residui])\n",
    "plt.vlines(dati_x, np.zeros(n), residui, linewidth = .5, color = 'orange')\n",
    "plt.plot(x, np.zeros(100), color = 'red', linewidth = 2)\n",
    "plt.scatter(dati_x, residui, s = 8, c = 'cornflowerblue', zorder = 3, label = 'residui: $y_i-ax_i-b$')\n",
    "plt.title(\"Distribuzione dei residui\")\n",
    "plt.xlabel('grandezza X')\n",
    "plt.ylabel('residui')\n",
    "plt.legend()\n",
    "plt.show()"
   ]
  }
 ],
 "metadata": {
  "kernelspec": {
   "display_name": "Python 3.10.7 64-bit",
   "language": "python",
   "name": "python3"
  },
  "language_info": {
   "codemirror_mode": {
    "name": "ipython",
    "version": 3
   },
   "file_extension": ".py",
   "mimetype": "text/x-python",
   "name": "python",
   "nbconvert_exporter": "python",
   "pygments_lexer": "ipython3",
   "version": "3.10.7"
  },
  "orig_nbformat": 4,
  "vscode": {
   "interpreter": {
    "hash": "26de051ba29f2982a8de78e945f0abaf191376122a1563185a90213a26c5da77"
   }
  }
 },
 "nbformat": 4,
 "nbformat_minor": 2
}
